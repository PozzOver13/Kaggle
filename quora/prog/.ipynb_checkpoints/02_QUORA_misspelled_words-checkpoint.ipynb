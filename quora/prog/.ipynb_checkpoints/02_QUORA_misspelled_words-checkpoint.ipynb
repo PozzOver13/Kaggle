{
 "cells": [
  {
   "cell_type": "markdown",
   "metadata": {},
   "source": [
    "# 02_QUORA_misspelled_words.ipynb\n",
    "## 2018-12-10\n",
    "\n",
    "Andiamo a controllare l'efficacia della correzione delle parole 'misspelled'.\n",
    "\n",
    "Libreria interessante: https://anaconda.org/conda-forge/hunspell\n",
    "-> Tuttavia ho problemi ad installarla quindi cerco alternative\n",
    "\n",
    "Descrizione: Hunspell is the spell checker of LibreOffice, OpenOffice.org, Mozilla Firefox 3 & Thunderbird, Google Chrome, and it is also used by proprietary software packages, like macOS, InDesign, memoQ, Opera and SDL Trados.\n",
    "\n",
    "Elenco delle parole piu' frequentemente mal digitate:\n",
    "- Qoura : 82 times\n",
    "- mastrubation : 33 times\n",
    "- demonitisation : 29 times\n",
    "- Whst : 27 times\n",
    "- watsapp : 24 times\n",
    "- mastrubate : 20 times\n",
    "- qouta : 16 times\n",
    "- demonitization : 14 times\n",
    "- narcissit : 13 times\n",
    "- mastrubating : 13 times\n",
    "- narcisist : 12 times\n",
    "\n",
    "Link interessanti:\n",
    "https://datascience.blog.wzb.eu/2016/07/13/autocorrecting-misspelled-words-in-python-using-hunspell/"
   ]
  },
  {
   "cell_type": "code",
   "execution_count": 2,
   "metadata": {},
   "outputs": [
    {
     "name": "stdout",
     "output_type": "stream",
     "text": [
      "Train shape :  (1306122, 3)\n",
      "Test shape :  (56370, 2)\n"
     ]
    }
   ],
   "source": [
    "#### INIZIALIZZAZIONE ####\n",
    "import string\n",
    "import numpy as np\n",
    "import pandas as pd\n",
    "import seaborn as sns\n",
    "# import hunspell \n",
    "\n",
    "#from keras.preprocessing.text import Tokenizer\n",
    "\n",
    "color = sns.color_palette()\n",
    "pd.options.mode.chained_assignment = None\n",
    "pd.options.display.max_columns = 999\n",
    "\n",
    "#### CARICAMENTO DATI ####\n",
    "train_df = pd.read_csv(\"/Users/stefanopozzati/Documents/GitHub/data_science/quora/datainput/train.csv\")\n",
    "test_df = pd.read_csv(\"/Users/stefanopozzati/Documents/GitHub/data_science/quora/datainput/test.csv\")\n",
    "print(\"Train shape : \", train_df.shape)\n",
    "print(\"Test shape : \", test_df.shape)"
   ]
  },
  {
   "cell_type": "code",
   "execution_count": 3,
   "metadata": {},
   "outputs": [],
   "source": [
    "## TOKENIZATION\n",
    "\n",
    "def create_tokens(texts):\n",
    "    sentences = texts.apply(lambda x: x.split()).values\n",
    "    vocab = {}\n",
    "    for sentence in sentences:\n",
    "        for word in sentence:\n",
    "            try:\n",
    "                vocab[word] += 1\n",
    "            except KeyError:\n",
    "                vocab[word] = 1\n",
    "    return vocab\n",
    "\n",
    "train_tokens = create_tokens(train_df['question_text'])\n",
    "test_tokens = create_tokens(test_df['question_text'])"
   ]
  },
  {
   "cell_type": "code",
   "execution_count": 5,
   "metadata": {},
   "outputs": [
    {
     "data": {
      "text/plain": [
       "dict"
      ]
     },
     "execution_count": 5,
     "metadata": {},
     "output_type": "execute_result"
    }
   ],
   "source": [
    "type(train_tokens)"
   ]
  },
  {
   "cell_type": "code",
   "execution_count": 5,
   "metadata": {},
   "outputs": [
    {
     "data": {
      "text/plain": [
       "{'How': 261930, 'Quebec': 97, 'did': 33489, 'nationalists': 91, 'see': 9003}"
      ]
     },
     "execution_count": 5,
     "metadata": {},
     "output_type": "execute_result"
    }
   ],
   "source": [
    "dict(list(train_tokens.items())[0:5])"
   ]
  },
  {
   "cell_type": "markdown",
   "metadata": {},
   "source": [
    "Segnalo il link interessante di Peter Norvig che spiega il correttore di Google e come funziona\n",
    "http://norvig.com/spell-correct.html"
   ]
  },
  {
   "cell_type": "code",
   "execution_count": 3,
   "metadata": {},
   "outputs": [
    {
     "ename": "ModuleNotFoundError",
     "evalue": "No module named 'autocorrect'",
     "output_type": "error",
     "traceback": [
      "\u001b[0;31m---------------------------------------------------------------------------\u001b[0m",
      "\u001b[0;31mModuleNotFoundError\u001b[0m                       Traceback (most recent call last)",
      "\u001b[0;32m<ipython-input-3-3451a6fa440f>\u001b[0m in \u001b[0;36m<module>\u001b[0;34m()\u001b[0m\n\u001b[0;32m----> 1\u001b[0;31m \u001b[0;32mfrom\u001b[0m \u001b[0mautocorrect\u001b[0m \u001b[0;32mimport\u001b[0m \u001b[0mspell\u001b[0m\u001b[0;34m\u001b[0m\u001b[0m\n\u001b[0m",
      "\u001b[0;31mModuleNotFoundError\u001b[0m: No module named 'autocorrect'"
     ]
    }
   ],
   "source": [
    "from autocorrect import spell"
   ]
  },
  {
   "cell_type": "code",
   "execution_count": 2,
   "metadata": {},
   "outputs": [
    {
     "name": "stdout",
     "output_type": "stream",
     "text": [
      "Requirement already satisfied: autocorrect in /Users/stefanopozzati/anaconda3/envs/kaggle1/lib/python3.6/site-packages (0.3.0)\n"
     ]
    }
   ],
   "source": [
    "! pip install --user autocorrect"
   ]
  },
  {
   "cell_type": "code",
   "execution_count": null,
   "metadata": {},
   "outputs": [],
   "source": []
  }
 ],
 "metadata": {
  "kernelspec": {
   "display_name": "Python 3",
   "language": "python",
   "name": "python3"
  },
  "language_info": {
   "codemirror_mode": {
    "name": "ipython",
    "version": 3
   },
   "file_extension": ".py",
   "mimetype": "text/x-python",
   "name": "python",
   "nbconvert_exporter": "python",
   "pygments_lexer": "ipython3",
   "version": "3.6.4"
  }
 },
 "nbformat": 4,
 "nbformat_minor": 2
}
