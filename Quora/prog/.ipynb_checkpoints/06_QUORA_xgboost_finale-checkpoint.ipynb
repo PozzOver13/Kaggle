{
 "cells": [
  {
   "cell_type": "markdown",
   "metadata": {},
   "source": [
    "# TEST PERFORMANCE XGBOOST\n"
   ]
  },
  {
   "cell_type": "code",
   "execution_count": 1,
   "metadata": {},
   "outputs": [],
   "source": [
    "## > INIZIALIZZAZIONE\n",
    "\n",
    "import pandas as pd\n",
    "import numpy as np\n",
    "import xgboost as xgb\n",
    "import os\n",
    "import matplotlib.pyplot as plt\n",
    "import sklearn.metrics as met\n",
    "\n",
    "def best_threshold(y_hat, y):\n",
    "    # borrowed from: \n",
    "    # www.kaggle.com/jannen/reaching-0-7-fork-from-bilstm-attention-kfold\n",
    "    tmp = [0,0,0] # idx, cur, max\n",
    "    delta = 0\n",
    "    for tmp[0] in np.arange(0.1, 0.501, 0.01):\n",
    "        tmp[1] = met.f1_score(y, (y_hat>tmp[0]).astype(int))\n",
    "        if tmp[1] > tmp[2]:\n",
    "            delta = tmp[0]\n",
    "            tmp[2] = tmp[1]\n",
    "    print('Best threshold is {:.4f} with F1 score: {:.4f}'.format(delta, tmp[2]))\n",
    "    return delta, tmp[2]\n",
    "\n",
    "os.chdir('C:/Users/cg08900/Documents/Pandora/Personale/kaggle/Quora/datasets')\n",
    "\n",
    "train_df_f = pd.read_csv('train_df_f.csv', delimiter = ',')\n",
    "val_df_f = pd.read_csv('val_df_f.csv', delimiter = ',')\n",
    "test_df_f = pd.read_csv('test_df_f.csv', delimiter = ',')\n"
   ]
  },
  {
   "cell_type": "code",
   "execution_count": 38,
   "metadata": {},
   "outputs": [],
   "source": [
    "def best_threshold(y_hat, y):\n",
    "    # borrowed from: \n",
    "    # www.kaggle.com/jannen/reaching-0-7-fork-from-bilstm-attention-kfold\n",
    "    tmp = [0,0,0] # idx, cur, max\n",
    "    delta = 0\n",
    "    for tmp[0] in np.arange(0.1, 0.501, 0.01):\n",
    "        tmp[1] = met.f1_score(y, (y_hat>tmp[0]).astype(int))\n",
    "        if tmp[1] > tmp[2]:\n",
    "            delta = tmp[0]\n",
    "            tmp[2] = tmp[1]\n",
    "    #print('Best threshold is {:.4f} with F1 score: {:.4f}'.format(delta, tmp[2]))\n",
    "    return delta, tmp[2]"
   ]
  },
  {
   "cell_type": "code",
   "execution_count": 2,
   "metadata": {},
   "outputs": [
    {
     "data": {
      "text/plain": [
       "Index(['qid', 'question_text', 'total_length', 'capitals', 'caps_vs_length',\n",
       "       'num_words', 'num_unique_words', 'words_vs_unique', 'pr_lstma_glove',\n",
       "       'pr_lstma_wiki', 'pr_lstma_paragram', 'pr_lstma_google',\n",
       "       'pr_grup_glove', 'pr_grup_wiki', 'pr_grup_paragram', 'pr_grup_google'],\n",
       "      dtype='object')"
      ]
     },
     "execution_count": 2,
     "metadata": {},
     "output_type": "execute_result"
    }
   ],
   "source": [
    "test_df_f.columns"
   ]
  },
  {
   "cell_type": "code",
   "execution_count": 60,
   "metadata": {},
   "outputs": [
    {
     "name": "stdout",
     "output_type": "stream",
     "text": [
      "['total_length', 'capitals', 'caps_vs_length', 'num_words', 'num_unique_words', 'words_vs_unique', 'pr_lstma_glove']\n",
      "['total_length', 'capitals', 'caps_vs_length', 'num_words', 'num_unique_words', 'words_vs_unique', 'pr_lstma_wiki']\n",
      "['total_length', 'capitals', 'caps_vs_length', 'num_words', 'num_unique_words', 'words_vs_unique', 'pr_lstma_paragram']\n",
      "['total_length', 'capitals', 'caps_vs_length', 'num_words', 'num_unique_words', 'words_vs_unique', 'pr_lstma_google']\n",
      "['total_length', 'capitals', 'caps_vs_length', 'num_words', 'num_unique_words', 'words_vs_unique', 'pr_grup_glove']\n",
      "['total_length', 'capitals', 'caps_vs_length', 'num_words', 'num_unique_words', 'words_vs_unique', 'pr_grup_wiki']\n",
      "['total_length', 'capitals', 'caps_vs_length', 'num_words', 'num_unique_words', 'words_vs_unique', 'pr_grup_paragram']\n",
      "['total_length', 'capitals', 'caps_vs_length', 'num_words', 'num_unique_words', 'words_vs_unique', 'pr_grup_google']\n"
     ]
    }
   ],
   "source": [
    "# best regressor\n",
    "\n",
    "x_index = ['total_length', 'capitals', 'caps_vs_length', \n",
    "           'num_words', 'num_unique_words', 'words_vs_unique']\n",
    "\n",
    "x_vars_s = ['pr_lstma_glove','pr_lstma_wiki', 'pr_lstma_paragram', 'pr_lstma_google']\n",
    "x_vars_gr = ['pr_grup_glove', 'pr_grup_wiki', 'pr_grup_paragram', 'pr_grup_google']\n",
    "\n",
    "x_vars_f = x_vars_s + x_vars_gr\n",
    "\n",
    "for i in np.arange(0, 8, 1):\n",
    "    x_index.append(x_vars_f[i])\n",
    "    print(x_index)\n",
    "    x_index.remove(x_vars_f[i])\n",
    "\n",
    "\n"
   ]
  },
  {
   "cell_type": "code",
   "execution_count": 59,
   "metadata": {},
   "outputs": [
    {
     "name": "stdout",
     "output_type": "stream",
     "text": [
      "['total_length', 'capitals', 'caps_vs_length', 'num_words', 'num_unique_words', 'words_vs_unique', 'pr_lstma_glove']\n",
      "['total_length', 'capitals', 'caps_vs_length', 'num_words', 'num_unique_words', 'words_vs_unique', 'pr_lstma_wiki']\n",
      "['total_length', 'capitals', 'caps_vs_length', 'num_words', 'num_unique_words', 'words_vs_unique', 'pr_lstma_paragram']\n",
      "['total_length', 'capitals', 'caps_vs_length', 'num_words', 'num_unique_words', 'words_vs_unique', 'pr_lstma_google']\n",
      "['total_length', 'capitals', 'caps_vs_length', 'num_words', 'num_unique_words', 'words_vs_unique', 'pr_grup_glove']\n",
      "['total_length', 'capitals', 'caps_vs_length', 'num_words', 'num_unique_words', 'words_vs_unique', 'pr_grup_wiki']\n",
      "['total_length', 'capitals', 'caps_vs_length', 'num_words', 'num_unique_words', 'words_vs_unique', 'pr_grup_paragram']\n",
      "['total_length', 'capitals', 'caps_vs_length', 'num_words', 'num_unique_words', 'words_vs_unique', 'pr_grup_google']\n"
     ]
    }
   ],
   "source": [
    "# target\n",
    "y=train_df_f['target']\n",
    "y_val=val_df_f['target']\n",
    "\n",
    "x_vars_f = x_vars_s + x_vars_gr\n",
    "\n",
    "delta_out = []\n",
    "thoutresh_opt_out = []\n",
    "for i in np.arange(0, 8, 1):\n",
    "    x_index.append(x_vars_f[i])\n",
    "    print(x_index)\n",
    "    \n",
    "    # select vars\n",
    "    X=train_df_f[x_index].values\n",
    "    X_val=val_df_f[x_index].values\n",
    "    \n",
    "    gbm = xgb.XGBRegressor(seed = 13, \n",
    "                           objective = 'binary:logistic', \n",
    "                           max_depth=4, \n",
    "                           learning_rate=0.02, \n",
    "                           subsample = 0.75).fit(X, y)\n",
    "    \n",
    "    pr_val_ = gbm.predict(X_val)\n",
    "    \n",
    "    # performance\n",
    "    delta_val, thresh_opt_val = best_threshold(pr_val_, y_val)\n",
    "    \n",
    "    delta_out.append(delta_val)\n",
    "    thoutresh_opt_out.append(thresh_opt_val)\n",
    "    \n",
    "    # remove elements\n",
    "    x_index.remove(x_vars_f[i])\n",
    "    \n",
    "    "
   ]
  },
  {
   "cell_type": "code",
   "execution_count": 50,
   "metadata": {},
   "outputs": [
    {
     "name": "stdout",
     "output_type": "stream",
     "text": [
      "[0.33999999999999986, 0.3699999999999999, 0.3599999999999999, 0.34999999999999987, 0.34999999999999987]\n",
      "[0.6768495350487358, 0.6707127295362588, 0.6719006059682152, 0.6634567618174175, 0.6732620926632179]\n"
     ]
    }
   ],
   "source": [
    "print(delta_out)\n",
    "print(thoutresh_opt_out)"
   ]
  },
  {
   "cell_type": "code",
   "execution_count": null,
   "metadata": {},
   "outputs": [],
   "source": [
    "delta_out = []\n",
    "thoutresh_opt_out = []\n",
    "for i in np.arange(0, 4, 1):\n",
    "    x_index.append(x_vars_f[i])\n",
    "    print(x_index)\n",
    "    \n",
    "    # select vars\n",
    "    X=train_df_f[x_index].as_matrix()\n",
    "    X_val=val_df_f[x_index].as_matrix()\n",
    "    \n",
    "    gbm = xgb.XGBRegressor(seed = 13, \n",
    "                       objective = 'binary:logistic', \n",
    "                       max_depth=3, \n",
    "                       learning_rate=0.02, \n",
    "                       subsample = 0.75).fit(X, y)\n",
    "    \n",
    "    pr_val_ = gbm.predict(X_val)\n",
    "    \n",
    "    # performance\n",
    "    delta_val, thresh_opt_val = best_threshold(pr_val_, y_val)\n",
    "    \n",
    "    delta_out.append(delta_val)\n",
    "    thoutresh_opt_out.append(thresh_opt_val)\n",
    "    \n",
    "    # remove elements\n",
    "    x_index.remove(x_vars_s[i])"
   ]
  },
  {
   "cell_type": "code",
   "execution_count": 64,
   "metadata": {},
   "outputs": [
    {
     "name": "stdout",
     "output_type": "stream",
     "text": [
      "0.33999999999999986\n",
      "0.6768516438253576\n"
     ]
    }
   ],
   "source": [
    "# > XGBOOST\n",
    "\n",
    "x_index = ['total_length', 'capitals', 'caps_vs_length',\n",
    "       'num_words', 'num_unique_words', 'words_vs_unique']\n",
    "\n",
    "x_vars = ['pr_grup_glove', 'pr_grup_paragram'] + x_index\n",
    "\n",
    "# train\n",
    "X=train_df_f[x_vars].values\n",
    "y=train_df_f['target']\n",
    "\n",
    "gbm = xgb.XGBRegressor(seed = 13, \n",
    "                       objective = 'binary:logistic', \n",
    "                       max_depth=4, \n",
    "                       learning_rate=0.02, \n",
    "                       subsample = 0.85,\n",
    "                       eval_metric = \"logloss\").fit(X, y)\n",
    "\n",
    "# validation\n",
    "X_val=val_df_f[x_vars].values\n",
    "y_val=val_df_f['target']\n",
    "\n",
    "pr_val_ = gbm.predict(X_val)\n",
    "\n",
    "delta_val_best, thresh_opt_val_best = best_threshold(pr_val_, y_val)\n",
    "\n",
    "print(delta_val_best)\n",
    "print(thresh_opt_val_best)\n"
   ]
  },
  {
   "cell_type": "code",
   "execution_count": 62,
   "metadata": {},
   "outputs": [
    {
     "name": "stdout",
     "output_type": "stream",
     "text": [
      "Diffusion matrix:\n",
      "col_0        0     1     All\n",
      "target                      \n",
      "0       182301  1359  183660\n",
      "1         7063  5196   12259\n",
      "All     189364  6555  195919\n"
     ]
    }
   ],
   "source": [
    "# > FINAL VALIDATION TABLES\n",
    "\n",
    "ground_truth = y_val\n",
    "pred_y_val = (pr_val_>thresh_opt_val_best).astype(int)\n",
    "\n",
    "print(\"Diffusion matrix:\")\n",
    "print(pd.crosstab(ground_truth, pred_y_val, margins=True))"
   ]
  },
  {
   "cell_type": "code",
   "execution_count": 19,
   "metadata": {},
   "outputs": [
    {
     "name": "stdout",
     "output_type": "stream",
     "text": [
      "0.36\n",
      "0.33\n",
      "0.7306796716694716\n",
      "0.6831983039297341\n"
     ]
    }
   ],
   "source": [
    "print(delta_tr)\n",
    "print(delta_val)\n",
    "\n",
    "print(thesh_opt_tr)\n",
    "print(thesh_opt_val)"
   ]
  },
  {
   "cell_type": "code",
   "execution_count": 6,
   "metadata": {},
   "outputs": [
    {
     "data": {
      "text/plain": [
       "{'f1': 5091.858015314446,\n",
       " 'f0': 627.0722142969292,\n",
       " 'f5': 47.247926680392126,\n",
       " 'f2': 32.059772351851855,\n",
       " 'f7': 67.5381874,\n",
       " 'f6': 16.0380859}"
      ]
     },
     "execution_count": 6,
     "metadata": {},
     "output_type": "execute_result"
    }
   ],
   "source": [
    "# importance_type = ['weight', 'gain', 'cover', 'total_gain', 'total_cover']\n",
    "gbm.get_booster().get_score(importance_type='gain')"
   ]
  },
  {
   "cell_type": "code",
   "execution_count": 7,
   "metadata": {},
   "outputs": [
    {
     "data": {
      "text/plain": [
       "['pr_lstma_glove',\n",
       " 'pr_lstma_paragram',\n",
       " 'total_length',\n",
       " 'capitals',\n",
       " 'caps_vs_length',\n",
       " 'num_words',\n",
       " 'num_unique_words',\n",
       " 'words_vs_unique']"
      ]
     },
     "execution_count": 7,
     "metadata": {},
     "output_type": "execute_result"
    }
   ],
   "source": [
    "x_vars"
   ]
  },
  {
   "cell_type": "code",
   "execution_count": 63,
   "metadata": {
    "scrolled": true
   },
   "outputs": [
    {
     "data": {
      "image/png": "[encoded data removed]",
      "text/plain": [
       "<Figure size 432x288 with 1 Axes>"
      ]
     },
     "metadata": {},
     "output_type": "display_data"
    }
   ],
   "source": [
    "#plt.figure(figsize=(10,5))\n",
    "plt.bar(x_vars, gbm.feature_importances_)\n",
    "plt.xticks(rotation='vertical')\n",
    "plt.show()"
   ]
  },
  {
   "cell_type": "code",
   "execution_count": 17,
   "metadata": {},
   "outputs": [],
   "source": [
    "## Controllo domande errate\n",
    "\n",
    "val_df_f['pr_is_1'] = (pr_val_>0.37).astype(int)\n",
    "\n",
    "df_wrong = val_df_f.loc[(val_df_f['pr_is_1'] == 0) & (val_df_f['target'] == 1)]"
   ]
  },
  {
   "cell_type": "code",
   "execution_count": 27,
   "metadata": {},
   "outputs": [],
   "source": [
    "df_wrong.to_csv('estrazione_casi_sbagliati.csv', sep = \"|\")\n",
    "\n"
   ]
  },
  {
   "cell_type": "code",
   "execution_count": 30,
   "metadata": {},
   "outputs": [],
   "source": [
    "val_df_f.to_csv('validazione_con_pr_xgboost.csv', sep = \"|\")"
   ]
  },
  {
   "cell_type": "code",
   "execution_count": 68,
   "metadata": {},
   "outputs": [
    {
     "name": "stdout",
     "output_type": "stream",
     "text": [
      "0.34999999999999987\n",
      "0.6859737006887914\n"
     ]
    }
   ],
   "source": [
    "val_mean = val_df_f.loc[: , 'pr_lstma_glove':'pr_lstma_paragram'].mean(axis=1)\n",
    "\n",
    "delta_val_best2, thresh_opt_val_best2 = best_threshold(val_mean, y_val)\n",
    "\n",
    "print(delta_val_best2)\n",
    "print(thresh_opt_val_best2)"
   ]
  },
  {
   "cell_type": "code",
   "execution_count": 72,
   "metadata": {},
   "outputs": [
    {
     "name": "stdout",
     "output_type": "stream",
     "text": [
      "0.34999999999999987\n",
      "0.6825434068512435\n"
     ]
    }
   ],
   "source": [
    "val_median = val_df_f.loc[: , 'pr_lstma_glove':'pr_lstma_paragram'].median(axis=1)\n",
    "\n",
    "delta_val_best2, thresh_opt_val_best2 = best_threshold(val_median, y_val)\n",
    "\n",
    "print(delta_val_best2)\n",
    "print(thresh_opt_val_best2)"
   ]
  },
  {
   "cell_type": "code",
   "execution_count": 69,
   "metadata": {},
   "outputs": [
    {
     "name": "stdout",
     "output_type": "stream",
     "text": [
      "0.3799999999999999\n",
      "0.6859349403229582\n"
     ]
    }
   ],
   "source": [
    "# > XGBOOST\n",
    "\n",
    "x_index = ['total_length', 'capitals', 'caps_vs_length',\n",
    "       'num_words', 'num_unique_words', 'words_vs_unique']\n",
    "\n",
    "x_vars = ['pr_avg'] + x_index\n",
    "\n",
    "# train\n",
    "train_df_f['pr_avg'] = train_df_f.loc[: , 'pr_lstma_glove':'pr_lstma_paragram'].mean(axis=1)\n",
    "val_df_f['pr_avg'] = val_df_f.loc[: , 'pr_lstma_glove':'pr_lstma_paragram'].mean(axis=1)\n",
    "X=train_df_f[x_vars].values\n",
    "y=train_df_f['target']\n",
    "\n",
    "gbm = xgb.XGBRegressor(seed = 13, \n",
    "                       objective = 'binary:logistic', \n",
    "                       max_depth=4, \n",
    "                       learning_rate=0.02, \n",
    "                       subsample = 0.85,\n",
    "                       eval_metric = \"logloss\").fit(X, y)\n",
    "\n",
    "# validation\n",
    "X_val=val_df_f[x_vars].values\n",
    "y_val=val_df_f['target']\n",
    "\n",
    "pr_val_ = gbm.predict(X_val)\n",
    "\n",
    "delta_val_best, thresh_opt_val_best = best_threshold(pr_val_, y_val)\n",
    "\n",
    "print(delta_val_best)\n",
    "print(thresh_opt_val_best)\n"
   ]
  },
  {
   "cell_type": "code",
   "execution_count": 71,
   "metadata": {},
   "outputs": [
    {
     "name": "stdout",
     "output_type": "stream",
     "text": [
      "Optimization terminated successfully.\n",
      "         Current function value: 0.095915\n",
      "         Iterations 8\n",
      "                          Results: Logit\n",
      "===================================================================\n",
      "Model:               Logit            Pseudo R-squared: 0.586      \n",
      "Dependent Variable:  target           AIC:              212980.4089\n",
      "Date:                2019-02-05 10:47 BIC:              213040.0092\n",
      "No. Observations:    1110203          Log-Likelihood:   -1.0649e+05\n",
      "Df Model:            4                LL-Null:          -2.5729e+05\n",
      "Df Residuals:        1110198          LLR p-value:      0.0000     \n",
      "Converged:           1.0000           Scale:            1.0000     \n",
      "No. Iterations:      8.0000                                        \n",
      "-------------------------------------------------------------------\n",
      "                   Coef.  Std.Err.     z     P>|z|   [0.025  0.975]\n",
      "-------------------------------------------------------------------\n",
      "const             -4.6345   0.0135 -342.6465 0.0000 -4.6611 -4.6080\n",
      "pr_lstma_glove     2.6099   0.0640   40.7997 0.0000  2.4846  2.7353\n",
      "pr_lstma_wiki      0.2777   0.0629    4.4175 0.0000  0.1545  0.4010\n",
      "pr_lstma_paragram  6.7759   0.0574  118.1239 0.0000  6.6635  6.8884\n",
      "num_words          0.0014   0.0008    1.8253 0.0680 -0.0001  0.0029\n",
      "===================================================================\n",
      "\n",
      "0.21999999999999995\n",
      "0.6806521312119427\n"
     ]
    }
   ],
   "source": [
    "import statsmodels.api as sm\n",
    "from statsmodels.tools.tools import add_constant\n",
    "\n",
    "x_vars = ['pr_lstma_glove','pr_lstma_wiki', 'pr_lstma_paragram'] + ['num_words']\n",
    "\n",
    "# train\n",
    "X=train_df_f[x_vars]\n",
    "y=train_df_f['target']\n",
    "\n",
    "X1 = add_constant(X, prepend=True, has_constant='skip')\n",
    "\n",
    "logit_model=sm.Logit(y,X1)\n",
    "result=logit_model.fit()\n",
    "print(result.summary2())\n",
    "\n",
    "# validation\n",
    "X_val=val_df_f[x_vars]\n",
    "y_val=val_df_f['target']\n",
    "\n",
    "X1_val = add_constant(X_val, prepend=True, has_constant='skip')\n",
    "\n",
    "pr_val_ = result.predict(X1_val)\n",
    "\n",
    "delta_val_best, thresh_opt_val_best = best_threshold(pr_val_, y_val)\n",
    "\n",
    "print(delta_val_best)\n",
    "print(thresh_opt_val_best)"
   ]
  },
  {
   "cell_type": "code",
   "execution_count": null,
   "metadata": {},
   "outputs": [],
   "source": []
  }
 ],
 "metadata": {
  "kernelspec": {
   "display_name": "Python 3",
   "language": "python",
   "name": "python3"
  },
  "language_info": {
   "codemirror_mode": {
    "name": "ipython",
    "version": 3
   },
   "file_extension": ".py",
   "mimetype": "text/x-python",
   "name": "python",
   "nbconvert_exporter": "python",
   "pygments_lexer": "ipython3",
   "version": "3.6.5"
  },
  "varInspector": {
   "cols": {
    "lenName": 16,
    "lenType": 16,
    "lenVar": 40
   },
   "kernels_config": {
    "python": {
     "delete_cmd_postfix": "",
     "delete_cmd_prefix": "del ",
     "library": "var_list.py",
     "varRefreshCmd": "print(var_dic_list())"
    },
    "r": {
     "delete_cmd_postfix": ") ",
     "delete_cmd_prefix": "rm(",
     "library": "var_list.r",
     "varRefreshCmd": "cat(var_dic_list()) "
    }
   },
   "types_to_exclude": [
    "module",
    "function",
    "builtin_function_or_method",
    "instance",
    "_Feature"
   ],
   "window_display": false
  }
 },
 "nbformat": 4,
 "nbformat_minor": 2
}
